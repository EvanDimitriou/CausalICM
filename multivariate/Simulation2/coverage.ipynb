{
 "cells": [
  {
   "cell_type": "markdown",
   "metadata": {},
   "source": [
    "# Compute MSE, coverage, length"
   ]
  },
  {
   "cell_type": "code",
   "execution_count": null,
   "metadata": {},
   "outputs": [],
   "source": [
    "from functions.coverage_mult import coverage2\n",
    "best_rho = float(pd.read_csv('/multivariate/Simulation 2/sim2_best_rho.csv').values[0])\n",
    "import pandas as pd\n",
    "mse_ICM, mse_GPobs, mse_GPexp, coverage_prob_ICM_95, coverage_prob_ICM_90, coverage_prob_GPobs_95, coverage_prob_GPobs_90, coverage_prob_GPexp_95, coverage_prob_GPexp_90, length_ICM90, length_ICM95, length_GPobs90, length_GPobs95, length_GPexp90, length_GPexp95 = coverage2(num_datasets=200, sample_size=1000, beta0=-10, beta1=-8, beta2=-8, r=2, ID=5, AD=[0, 1, 2, 3, 4], rho=best_rho)"
   ]
  },
  {
   "cell_type": "markdown",
   "metadata": {},
   "source": [
    "# Save results"
   ]
  },
  {
   "cell_type": "code",
   "execution_count": 2,
   "metadata": {},
   "outputs": [],
   "source": [
    "import numpy as np\n",
    "# Convert NumPy arrays to pandas DataFrames\n",
    "sim2_coverage_df = pd.DataFrame(np.c_[mse_ICM, mse_GPobs, mse_GPexp, coverage_prob_ICM_95, \n",
    "                                      coverage_prob_ICM_90, coverage_prob_GPobs_95, coverage_prob_GPobs_90, \n",
    "                                      coverage_prob_GPexp_95, coverage_prob_GPexp_90, length_ICM90, \n",
    "                                      length_ICM95, length_GPobs90, length_GPobs95, length_GPexp90, length_GPexp95], \n",
    "                                columns=['mse_ICM', 'mse_GPobs', 'mse_GPexp', 'coverage_prob_ICM_95', \n",
    "                                      'coverage_prob_ICM_90', 'coverage_prob_GPobs_95', 'coverage_prob_GPobs_90', \n",
    "                                      'coverage_prob_GPexp_95', 'coverage_prob_GPexp_90', 'length_ICM90', \n",
    "                                      'length_ICM95', 'length_GPobs90', 'length_GPobs95', 'length_GPexp90', 'length_GPexp95'])\n",
    "\n",
    "sim2_coverage_df.to_csv('sim2_coverage.csv', index=False)"
   ]
  }
 ],
 "metadata": {
  "kernelspec": {
   "display_name": "base",
   "language": "python",
   "name": "python3"
  },
  "language_info": {
   "codemirror_mode": {
    "name": "ipython",
    "version": 3
   },
   "file_extension": ".py",
   "mimetype": "text/x-python",
   "name": "python",
   "nbconvert_exporter": "python",
   "pygments_lexer": "ipython3",
   "version": "3.10.11"
  }
 },
 "nbformat": 4,
 "nbformat_minor": 2
}
