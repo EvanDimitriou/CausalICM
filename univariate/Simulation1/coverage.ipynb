{
 "cells": [
  {
   "cell_type": "markdown",
   "metadata": {},
   "source": [
    "# Import packages and compute MSE, coverage, length"
   ]
  },
  {
   "cell_type": "code",
   "execution_count": null,
   "metadata": {},
   "outputs": [],
   "source": [
    "from functions.coverage import coverage1\n",
    "import pandas as pd\n",
    "best_rho = pd.read_csv('sim1_best_rho.csv').values[0]\n",
    "mse_ICM, mse_GPobs, mse_GPexp, coverage_prob_ICM_95, coverage_prob_ICM_90, coverage_prob_GPobs_95, coverage_prob_GPobs_90, coverage_prob_GPexp_95, coverage_prob_GPexp_90, length_ICM90, length_ICM95, length_GPobs90, length_GPobs95, length_GPexp90, length_GPexp95 = coverage1(num_datasets=200, min=-2, max=2.02, step=0.02, sample_size=1000, \n",
    "                                                                                                                                                                                                                                                                                  beta0=-3, beta1=-3, r=2, ID=1, AD=0, rho=best_rho)"
   ]
  },
  {
   "cell_type": "markdown",
   "metadata": {},
   "source": [
    "# Save results"
   ]
  },
  {
   "cell_type": "code",
   "execution_count": 3,
   "metadata": {},
   "outputs": [],
   "source": [
    "import pandas as pd\n",
    "import numpy as np\n",
    "# Convert NumPy arrays to pandas DataFrames\n",
    "sim1_coverage_df = pd.DataFrame(np.c_[np.arange(-2,2.02, 0.02), coverage_prob_ICM_95, coverage_prob_ICM_90, coverage_prob_GPobs_95, coverage_prob_GPobs_90, coverage_prob_GPexp_95, coverage_prob_GPexp_90], \n",
    "                                columns=['test_data', 'coverageProbICM95', 'coverageProbICM90', 'coverageProbGPobs95', 'coverageProbGPobs90', 'coverageProbGPexp95', 'coverageProbGPexp90'])\n",
    "\n",
    "# Convert NumPy arrays to pandas DataFrames\n",
    "sim1_length_df = pd.DataFrame(np.c_[np.arange(-2,2.02, 0.02), length_ICM95, length_ICM90, length_GPobs95, length_GPobs90, length_GPexp95, length_GPexp90], \n",
    "                                columns=['test_data', 'length_ICM95', 'length_ICM90', 'length_GPobs95', 'length_GPobs90', 'length_GPexp95', 'length_GPexp90'])\n",
    "\n",
    "# Convert NumPy arrays to pandas DataFrames\n",
    "sim1_mse_df = pd.DataFrame(np.c_[mse_ICM, mse_GPobs, mse_GPexp], \n",
    "                                columns=['mseICM', 'mseGPobs', 'mseGPexp'])\n",
    "\n",
    "\n",
    "# Save data_exp1 to a CSV file\n",
    "sim1_coverage_df.to_csv('sim1_coverage.csv', index=False)\n",
    "sim1_length_df.to_csv('sim1_length.csv', index=False)\n",
    "import numpy as np\n",
    "sim1_mse_df.to_csv('sim1_mse.csv', index=False)"
   ]
  }
 ],
 "metadata": {
  "kernelspec": {
   "display_name": "base",
   "language": "python",
   "name": "python3"
  },
  "language_info": {
   "codemirror_mode": {
    "name": "ipython",
    "version": 3
   },
   "file_extension": ".py",
   "mimetype": "text/x-python",
   "name": "python",
   "nbconvert_exporter": "python",
   "pygments_lexer": "ipython3",
   "version": "3.10.11"
  }
 },
 "nbformat": 4,
 "nbformat_minor": 2
}
